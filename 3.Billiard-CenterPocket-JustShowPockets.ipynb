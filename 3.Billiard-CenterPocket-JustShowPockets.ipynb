{
 "cells": [
  {
   "cell_type": "code",
   "execution_count": 32,
   "metadata": {},
   "outputs": [],
   "source": [
    "import numpy as np\n",
    "from numpy import *\n",
    "import math\n",
    "import matplotlib.pyplot as plt\n",
    "import matplotlib.patches as mpatches\n",
    "from matplotlib.pyplot import cm\n",
    "\n",
    "import cv2\n",
    "\n",
    "   \n",
    "\n",
    "%matplotlib inline\n",
    "\n",
    "def draw(pointList, makeVideo=False):\n",
    "       \n",
    "    \n",
    "    fig, ax = plt.subplots()\n",
    "\n",
    "    plt.ylim(0.0, 100.0)\n",
    "    plt.xlim(0.0, 100.0)\n",
    "    plt.gca().set_aspect('equal', adjustable='box')\n",
    "    plt.grid(linestyle='--')\n",
    "\n",
    "\n",
    "    #--------------------draw pockets--------------------\n",
    "    epsilon1 = 20\n",
    "    for pt in corners:\n",
    "        circle1 = plt.Circle(pt, epsilon1, color='orange', alpha=0.2)\n",
    "        ax.add_artist(circle1)\n",
    "    \n",
    "    epsilon2 = 20\n",
    "    centerCircle = plt.Circle((sideLen/2, sideLen/2), epsilon2, color='orange', alpha=0.2)\n",
    "    ax.add_artist(centerCircle)\n",
    "    #--------------------draw trajectory---------------\n",
    "    xList = []\n",
    "    yList = []\n",
    "    for pt in pointList:\n",
    "        xList.append(pt[0])\n",
    "        yList.append(pt[1])\n",
    "    \n",
    "    colors = cm.rainbow(np.linspace(0, 1, len(xList)))\n",
    "    \n",
    "    images=[]\n",
    "    for i in range(len(xList)-1):\n",
    "        plt.plot(xList[i:i+2], yList[i:i+2], color=colors[i], marker='o')\n",
    "        imgName = 'images/' + str(i) + '.png'\n",
    "        plt.savefig(imgName)\n",
    "        images.append(cv2.imread(imgName))\n",
    "    \n",
    "    plt.title(\"Trajectroy: p0=\" + str(pointList[0]) + \", p1=\" + str(pointList[1]))\n",
    "    plt.xlabel(\"x\")\n",
    "    plt.ylabel(\"y\")\n",
    "    plt.show()\n",
    "    \n",
    "    \n",
    "    print(\"len(images) =\", len(images))\n",
    "    \n",
    "    \n",
    "    #--------------------now make video---------------\n",
    "    if makeVideo:\n",
    "        \n",
    "        height,width,layers=images[1].shape\n",
    "        video=cv2.VideoWriter('billiard.mp4',cv2.VideoWriter_fourcc(*'DIVX'), 5, (width,height))\n",
    "\n",
    "        for j in range(len(images)):\n",
    "            video.write(images[j])\n",
    "\n",
    "        cv2.destroyAllWindows()\n",
    "        video.release()\n",
    "\n",
    "        print(\"Video Done!\")\n",
    "\n",
    "    \n",
    "    \n",
    "    \n",
    "   \n",
    "  "
   ]
  },
  {
   "cell_type": "code",
   "execution_count": 33,
   "metadata": {},
   "outputs": [
    {
     "data": {
      "image/png": "[encoded data removed]",
      "text/plain": [
       "<Figure size 432x288 with 1 Axes>"
      ]
     },
     "metadata": {},
     "output_type": "display_data"
    },
    {
     "name": "stdout",
     "output_type": "stream",
     "text": [
      "len(images) = 16\n"
     ]
    }
   ],
   "source": [
    "p0 = (0,0)\n",
    "p1 = (100, 100/7.5)\n",
    "s1 = getSide(p1)\n",
    "\n",
    "ptList = [p0]\n",
    "\n",
    "billiard(p0, p1, ptList)\n",
    "# print(\"ptList =\", ptList)\n",
    "draw(ptList, makeVideo=False)"
   ]
  },
  {
   "cell_type": "code",
   "execution_count": 3,
   "metadata": {},
   "outputs": [],
   "source": [
    "#sides = 0, 1, 2, 3 (bottom, right, top, left)\n",
    "sideLen = 100\n",
    "corners = [(0,0), (sideLen, 0), (sideLen, sideLen), (0, sideLen)]\n",
    "\n",
    "#given a side s, return its endpoints (x1 ,y1, x2, y2)\n",
    "\n",
    "sideCoords = []\n",
    "sideCoords.append([0,0, sideLen, 0])#bottom side\n",
    "sideCoords.append([sideLen,0, sideLen, sideLen])#right side\n",
    "sideCoords.append([sideLen,sideLen, 0, sideLen])#top side\n",
    "sideCoords.append([0,sideLen, 0, 0])#left side\n",
    "\n",
    "    "
   ]
  },
  {
   "cell_type": "code",
   "execution_count": 4,
   "metadata": {},
   "outputs": [],
   "source": [
    "def getSide(pt):\n",
    "    x,y = pt\n",
    "    if x==0:\n",
    "        return 3\n",
    "    if x==sideLen:\n",
    "        return 1\n",
    "    if y==0:\n",
    "        return 0\n",
    "    if y==sideLen:\n",
    "        return 2"
   ]
  },
  {
   "cell_type": "code",
   "execution_count": 5,
   "metadata": {},
   "outputs": [],
   "source": [
    "# input: point_i (pi), point_i+1 (pil), line_i (li), side_i (si)\n",
    "# output: point_i+1 (piNew), point_i+2 (piNextNew), line_i+1 (liNew), side_i (siNew)\n",
    "\n",
    "#siNext is the side of piNext\n",
    "\n",
    "def getNextPoint(pi, piNext):\n",
    "\n",
    "    temp = [sideLen, sideLen, 0, 0]\n",
    "    siNext = getSide(piNext)\n",
    "#     -------------------------------------------------------------------------------\n",
    "    if siNext%2==1: #1, or 3\n",
    "            \n",
    "        newy = 0\n",
    "        if piNext[1] > pi[1]:\n",
    "            newy = sideLen # axis = horizontal,    expect newy=sideLen or 0\n",
    "#         print(\"expect newy = \", newy)\n",
    "        \n",
    "        \n",
    "        if siNext==1:\n",
    "            newx = piNext[0] -  abs( (piNext[0]-pi[0]) * (newy-piNext[1]) / (piNext[1]-pi[1]) )\n",
    "        else:#siNext==3\n",
    "            newx = piNext[0]  +  abs( (piNext[0]-pi[0]) * (newy-piNext[1]) / (piNext[1]-pi[1]) )\n",
    "            \n",
    "#         print(\"tan = \", abs( (piNext[0]-pi[0]) / (piNext[1]-pi[1]) ))\n",
    "#         print(\"temp newx =\", newx)\n",
    "\n",
    "        if not (0 <= newx and newx <= sideLen):  #si increments two\n",
    "#             print(\"increment two\")\n",
    "            \n",
    "            newx = 0\n",
    "            if piNext[0] < pi[0]:\n",
    "                newx = sideLen\n",
    "            \n",
    "            if piNext[1] > pi[1]:\n",
    "                newy = piNext[1]    +   abs((piNext[1]-pi[1]) * (piNext[0] - newx) /  (piNext[0] - pi[0]))\n",
    "            else:\n",
    "                newy = piNext[1]    -   abs((piNext[1]-pi[1]) * (piNext[0] - newx) /  (piNext[0] - pi[0]))\n",
    "    \n",
    "    \n",
    "#     -------------------------------------------------------------------------------\n",
    "    if siNext%2==0: #2, or 0(4)\n",
    "\n",
    "            \n",
    "        newx = 0\n",
    "        if piNext[0] > pi[0]:\n",
    "            newx = sideLen # axis = vertical,    expect newy=sideLen or 0\n",
    "        \n",
    "#         print(\"expect newx =\", newx)\n",
    "        \n",
    "        if siNext==2:\n",
    "            newy = piNext[1] -   abs( (piNext[1]-pi[1]) * (newx-piNext[0]) / (piNext[0]-pi[0]) )\n",
    "#             print(\"expect newy =\", newy)\n",
    "        else:#siNext==0\n",
    "            newy = piNext[1] +   abs( (piNext[1]-pi[1]) * (newx-piNext[0]) / (piNext[0]-pi[0]) )\n",
    "    \n",
    "\n",
    "    \n",
    "        if not (0 <= newy and newy <= sideLen):  #si increments two\n",
    "#             print(\"increment two\")\n",
    "            \n",
    "            newy = 0\n",
    "            if piNext[1] < pi[1]:\n",
    "                newy = sideLen\n",
    "            \n",
    "            if piNext[0] > pi[0]:\n",
    "                newx = piNext[0]    +  abs((piNext[0]-pi[0]) * (piNext[1] - newy) /  (piNext[1] - pi[1]))\n",
    "            else:\n",
    "                newx = piNext[0]    -  abs((piNext[0]-pi[0]) * (piNext[1] - newy) /  (piNext[1] - pi[1]))\n",
    "    \n",
    "\n",
    "        \n",
    "    return (newx, newy)\n"
   ]
  },
  {
   "cell_type": "code",
   "execution_count": 6,
   "metadata": {},
   "outputs": [],
   "source": [
    "def close(pt1, pt2):\n",
    "    small = 0.05\n",
    "    return abs(pt1[0]-pt2[0]) < small  and   abs(pt1[1]-pt2[1]) < small\n",
    "        \n",
    "def fall(newPt):\n",
    "    for pt in corners:\n",
    "        if close(newPt, pt):\n",
    "            return True\n",
    "    return False"
   ]
  },
  {
   "cell_type": "code",
   "execution_count": 7,
   "metadata": {},
   "outputs": [],
   "source": [
    "def billiard(p0, p1, ptList):\n",
    "    \n",
    "    pi = p0\n",
    "    piNext = p1\n",
    "    \n",
    "    count = 0\n",
    "    while(True):\n",
    "#         print(\"pi =\", pi, \"  piNext =\", piNext)\n",
    "        \n",
    "        count+=1\n",
    "        newx, newy = getNextPoint(pi, piNext)\n",
    "        \n",
    "        pi = piNext\n",
    "        piNext = (newx, newy)\n",
    "        ptList.append(pi)\n",
    "        \n",
    "        if fall(pi):\n",
    "            break\n",
    "#         if count > 100:\n",
    "#             print(\"COUNT OF LINE SEGMENTS > 100, WE STOP!\")\n",
    "#             break\n",
    "        "
   ]
  },
  {
   "cell_type": "code",
   "execution_count": 8,
   "metadata": {
    "scrolled": false
   },
   "outputs": [],
   "source": [
    "p0 = (0,0)\n",
    "p1 = (100, 100/7.5)\n",
    "s1 = getSide(p1)\n",
    "\n",
    "ptList = [p0]\n",
    "\n",
    "billiard(p0, p1, ptList)\n",
    "# print(\"ptList =\", ptList)\n"
   ]
  },
  {
   "cell_type": "code",
   "execution_count": 9,
   "metadata": {},
   "outputs": [
    {
     "data": {
      "image/png": "[encoded data removed]",
      "text/plain": [
       "<Figure size 432x288 with 1 Axes>"
      ]
     },
     "metadata": {},
     "output_type": "display_data"
    },
    {
     "name": "stdout",
     "output_type": "stream",
     "text": [
      "len(images) = 16\n"
     ]
    }
   ],
   "source": [
    "draw(ptList, makeVideo=False)"
   ]
  },
  {
   "cell_type": "code",
   "execution_count": 10,
   "metadata": {},
   "outputs": [],
   "source": [
    "# draw(ptList, makeVideo=True)"
   ]
  },
  {
   "cell_type": "code",
   "execution_count": null,
   "metadata": {},
   "outputs": [],
   "source": []
  }
 ],
 "metadata": {
  "kernelspec": {
   "display_name": "Python 3",
   "language": "python",
   "name": "python3"
  },
  "language_info": {
   "codemirror_mode": {
    "name": "ipython",
    "version": 3
   },
   "file_extension": ".py",
   "mimetype": "text/x-python",
   "name": "python",
   "nbconvert_exporter": "python",
   "pygments_lexer": "ipython3",
   "version": "3.6.5"
  }
 },
 "nbformat": 4,
 "nbformat_minor": 2
}
