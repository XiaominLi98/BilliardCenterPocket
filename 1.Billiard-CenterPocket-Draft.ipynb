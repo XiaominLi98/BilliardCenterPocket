{
 "cells": [
  {
   "cell_type": "code",
   "execution_count": 325,
   "metadata": {},
   "outputs": [],
   "source": [
    "import numpy as np\n",
    "from numpy import *\n",
    "import math\n",
    "import matplotlib.pyplot as plt\n",
    "import matplotlib.patches as mpatches\n",
    "\n",
    "\n",
    "%matplotlib inline\n",
    "\n",
    "def draw(pointList):\n",
    "       \n",
    "    \n",
    "\n",
    "    plt.ylim(0.0, 100.0)\n",
    "    plt.xlim(0.0, 100.0)\n",
    "    plt.gca().set_aspect('equal', adjustable='box')\n",
    "\n",
    "    \n",
    "    xList = []\n",
    "    yList = []\n",
    "    for pt in pointList:\n",
    "        xList.append(pt[0])\n",
    "        yList.append(pt[1])\n",
    "    \n",
    "    plt.plot(xList, yList, 'bo-')\n",
    "\n",
    "    \n",
    "    plt.title(\"Billiard Trajectroy\")\n",
    "    plt.xlabel(\"x\")\n",
    "    plt.ylabel(\"y\")\n",
    "    plt.show()"
   ]
  },
  {
   "cell_type": "code",
   "execution_count": 326,
   "metadata": {},
   "outputs": [],
   "source": [
    "#sides = 0, 1, 2, 3 (bottom, right, top, left)"
   ]
  },
  {
   "cell_type": "code",
   "execution_count": 327,
   "metadata": {},
   "outputs": [],
   "source": [
    "#sides = 0, 1, 2, 3 (bottom, right, top, left)\n",
    "sideLen = 100\n",
    "corners = [(0,0), (sideLen, 0), (sideLen, sideLen), (0, sideLen)]\n",
    "\n",
    "#given a side s, return its endpoints (x1 ,y1, x2, y2)\n",
    "\n",
    "sideCoords = []\n",
    "sideCoords.append([0,0, sideLen, 0])#bottom side\n",
    "sideCoords.append([sideLen,0, sideLen, sideLen])#right side\n",
    "sideCoords.append([sideLen,sideLen, 0, sideLen])#top side\n",
    "sideCoords.append([0,sideLen, 0, 0])#left side\n",
    "\n",
    "    "
   ]
  },
  {
   "cell_type": "code",
   "execution_count": 328,
   "metadata": {},
   "outputs": [],
   "source": [
    "# input: point_i (pi), point_i+1 (pil), line_i (li), side_i (si)\n",
    "# output: point_i+1 (piNew), point_i+2 (piNextNew), line_i+1 (liNew), side_i (siNew)\n",
    "\n",
    "#siNext is the side of piNext\n",
    "\n",
    "def getNextPoint(pi, piNext):\n",
    "\n",
    "    temp = [sideLen, sideLen, 0, 0]\n",
    "    siNext = getSide(piNext)\n",
    "#     -------------------------------------------------------------------------------\n",
    "    if siNext%2==1: #1, or 3\n",
    "            \n",
    "        newy = 0\n",
    "        if piNext[1] > pi[1]:\n",
    "            newy = sideLen # axis = horizontal,    expect newy=sideLen or 0\n",
    "#         print(\"expect newy = \", newy)\n",
    "        \n",
    "        \n",
    "        if siNext==1:\n",
    "            newx = piNext[0] -  abs( (piNext[0]-pi[0]) * (newy-piNext[1]) / (piNext[1]-pi[1]) )\n",
    "        else:#siNext==3\n",
    "            newx = piNext[0]  +  abs( (piNext[0]-pi[0]) * (newy-piNext[1]) / (piNext[1]-pi[1]) )\n",
    "            \n",
    "#         print(\"tan = \", abs( (piNext[0]-pi[0]) / (piNext[1]-pi[1]) ))\n",
    "#         print(\"temp newx =\", newx)\n",
    "        if 0 <= newx and newx <= sideLen: #si only increments one\n",
    "            print(\"increment one\")\n",
    "        else:  #si increments two\n",
    "            print(\"increment two\")\n",
    "            \n",
    "            newx = 0\n",
    "            if piNext[0] < pi[0]:\n",
    "                newx = sideLen\n",
    "            \n",
    "            if piNext[1] > pi[1]:\n",
    "                newy = piNext[1]    +   abs((piNext[1]-pi[1]) * (piNext[0] - newx) /  (piNext[0] - pi[0]))\n",
    "            else:\n",
    "                newy = piNext[1]    -   abs((piNext[1]-pi[1]) * (piNext[0] - newx) /  (piNext[0] - pi[0]))\n",
    "    \n",
    "    \n",
    "#     -------------------------------------------------------------------------------\n",
    "    if siNext%2==0: #2, or 0(4)\n",
    "\n",
    "            \n",
    "        newx = 0\n",
    "        if piNext[0] > pi[0]:\n",
    "            newx = sideLen # axis = vertical,    expect newy=sideLen or 0\n",
    "        \n",
    "#         print(\"expect newx =\", newx)\n",
    "        \n",
    "        if siNext==2:\n",
    "            newy = piNext[1] -   abs( (piNext[1]-pi[1]) * (newx-piNext[0]) / (piNext[0]-pi[0]) )\n",
    "#             print(\"expect newy =\", newy)\n",
    "        else:#siNext==0\n",
    "            newy = piNext[1] +   abs( (piNext[1]-pi[1]) * (newx-piNext[0]) / (piNext[0]-pi[0]) )\n",
    "    \n",
    "        \n",
    "        if 0 <= newy and newy <= sideLen: #si only increments one\n",
    "            print(\"increment one\")\n",
    "        \n",
    "        else:  #si increments two\n",
    "            print(\"increment two\")\n",
    "            \n",
    "            newy = 0\n",
    "            if piNext[1] < pi[1]:\n",
    "                newy = sideLen\n",
    "            \n",
    "            if piNext[0] > pi[0]:\n",
    "                newx = piNext[0]    +  abs((piNext[0]-pi[0]) * (piNext[1] - newy) /  (piNext[1] - pi[1]))\n",
    "            else:\n",
    "                newx = piNext[0]    -  abs((piNext[0]-pi[0]) * (piNext[1] - newy) /  (piNext[1] - pi[1]))\n",
    "    \n",
    "\n",
    "        \n",
    "    return (newx, newy)\n"
   ]
  },
  {
   "cell_type": "code",
   "execution_count": 329,
   "metadata": {},
   "outputs": [
    {
     "name": "stdout",
     "output_type": "stream",
     "text": [
      "increment one\n"
     ]
    },
    {
     "data": {
      "text/plain": [
       "(50.0, 100)"
      ]
     },
     "execution_count": 329,
     "metadata": {},
     "output_type": "execute_result"
    }
   ],
   "source": [
    "#debug\n",
    "pi, piNext =   (100, 40), (0, 80.0)\n",
    "getNextPoint(pi, piNext)"
   ]
  },
  {
   "cell_type": "code",
   "execution_count": 330,
   "metadata": {},
   "outputs": [],
   "source": [
    "def close(pt1, pt2):\n",
    "    small = 0.05\n",
    "    return abs(pt1[0]-pt2[0]) < small  and   abs(pt1[1]-pt2[1]) < small\n",
    "        \n",
    "def fall(newPt):\n",
    "    for pt in corners:\n",
    "        if close(newPt, pt):\n",
    "            return True\n",
    "    return False"
   ]
  },
  {
   "cell_type": "code",
   "execution_count": 331,
   "metadata": {},
   "outputs": [],
   "source": [
    "def getSide(pt):\n",
    "    x,y = pt\n",
    "    if x==0:\n",
    "        return 3\n",
    "    if x==sideLen:\n",
    "        return 1\n",
    "    if y==0:\n",
    "        return 0\n",
    "    if y==sideLen:\n",
    "        return 2"
   ]
  },
  {
   "cell_type": "code",
   "execution_count": 332,
   "metadata": {},
   "outputs": [],
   "source": [
    "def billiard(p0, p1, ptList):\n",
    "    \n",
    "    pi = p0\n",
    "    piNext = p1\n",
    "    \n",
    "    while(True):\n",
    "        print(\"pi =\", pi, \"  piNext =\", piNext)\n",
    "        \n",
    "        newx, newy = getNextPoint(pi, piNext)\n",
    "        \n",
    "        pi = piNext\n",
    "        piNext = (newx, newy)\n",
    "        ptList.append(pi)\n",
    "        print(\"len(ptList) =\", len(ptList))\n",
    "        \n",
    "        if fall(pi):\n",
    "            print(\"fall pi =\", pi)\n",
    "            break\n",
    "        "
   ]
  },
  {
   "cell_type": "code",
   "execution_count": 333,
   "metadata": {
    "scrolled": true
   },
   "outputs": [
    {
     "name": "stdout",
     "output_type": "stream",
     "text": [
      "pi = (0, 0)   piNext = (100, 30.303030303030305)\n",
      "increment two\n",
      "len(ptList) = 2\n",
      "pi = (100, 30.303030303030305)   piNext = (0, 60.60606060606061)\n",
      "increment two\n",
      "len(ptList) = 3\n",
      "pi = (0, 60.60606060606061)   piNext = (100, 90.9090909090909)\n",
      "increment one\n",
      "len(ptList) = 4\n",
      "pi = (100, 90.9090909090909)   piNext = (69.99999999999999, 100)\n",
      "increment one\n",
      "len(ptList) = 5\n",
      "pi = (69.99999999999999, 100)   piNext = (0, 78.7878787878788)\n",
      "increment two\n",
      "len(ptList) = 6\n",
      "pi = (0, 78.7878787878788)   piNext = (100, 48.4848484848485)\n",
      "increment two\n",
      "len(ptList) = 7\n",
      "pi = (100, 48.4848484848485)   piNext = (0, 18.1818181818182)\n",
      "increment one\n",
      "len(ptList) = 8\n",
      "pi = (0, 18.1818181818182)   piNext = (60.00000000000007, 0)\n",
      "increment one\n",
      "len(ptList) = 9\n",
      "pi = (60.00000000000007, 0)   piNext = (100, 12.1212121212121)\n",
      "increment two\n",
      "len(ptList) = 10\n",
      "pi = (100, 12.1212121212121)   piNext = (0, 42.42424242424241)\n",
      "increment two\n",
      "len(ptList) = 11\n",
      "pi = (0, 42.42424242424241)   piNext = (100, 72.72727272727272)\n",
      "increment one\n",
      "len(ptList) = 12\n",
      "pi = (100, 72.72727272727272)   piNext = (10.0, 100)\n",
      "increment one\n",
      "len(ptList) = 13\n",
      "pi = (10.0, 100)   piNext = (0, 96.96969696969697)\n",
      "increment two\n",
      "len(ptList) = 14\n",
      "pi = (0, 96.96969696969697)   piNext = (100, 66.66666666666666)\n",
      "increment two\n",
      "len(ptList) = 15\n",
      "pi = (100, 66.66666666666666)   piNext = (0, 36.363636363636346)\n",
      "increment two\n",
      "len(ptList) = 16\n",
      "pi = (0, 36.363636363636346)   piNext = (100, 6.0606060606060375)\n",
      "increment one\n",
      "len(ptList) = 17\n",
      "pi = (100, 6.0606060606060375)   piNext = (80.00000000000009, 0)\n",
      "increment one\n",
      "len(ptList) = 18\n",
      "pi = (80.00000000000009, 0)   piNext = (0, 24.242424242424278)\n",
      "increment two\n",
      "len(ptList) = 19\n",
      "pi = (0, 24.242424242424278)   piNext = (100, 54.54545454545459)\n",
      "increment two\n",
      "len(ptList) = 20\n",
      "pi = (100, 54.54545454545459)   piNext = (0, 84.8484848484849)\n",
      "increment one\n",
      "len(ptList) = 21\n",
      "pi = (0, 84.8484848484849)   piNext = (49.999999999999815, 100)\n",
      "increment one\n",
      "len(ptList) = 22\n",
      "pi = (49.999999999999815, 100)   piNext = (100, 84.84848484848479)\n",
      "increment two\n",
      "len(ptList) = 23\n",
      "pi = (100, 84.84848484848479)   piNext = (0, 54.545454545454476)\n",
      "increment two\n",
      "len(ptList) = 24\n",
      "pi = (0, 54.545454545454476)   piNext = (100, 24.242424242424168)\n",
      "increment one\n",
      "len(ptList) = 25\n",
      "pi = (100, 24.242424242424168)   piNext = (20.000000000000256, 0)\n",
      "increment one\n",
      "len(ptList) = 26\n",
      "pi = (20.000000000000256, 0)   piNext = (0, 6.060606060606139)\n",
      "increment two\n",
      "len(ptList) = 27\n",
      "pi = (0, 6.060606060606139)   piNext = (100, 36.363636363636445)\n",
      "increment two\n",
      "len(ptList) = 28\n",
      "pi = (100, 36.363636363636445)   piNext = (0, 66.66666666666674)\n",
      "increment two\n",
      "len(ptList) = 29\n",
      "pi = (0, 66.66666666666674)   piNext = (100, 96.96969696969704)\n",
      "increment one\n",
      "len(ptList) = 30\n",
      "pi = (100, 96.96969696969704)   piNext = (90.00000000000023, 100)\n",
      "increment one\n",
      "len(ptList) = 31\n",
      "pi = (90.00000000000023, 100)   piNext = (0, 72.72727272727266)\n",
      "increment two\n",
      "len(ptList) = 32\n",
      "pi = (0, 72.72727272727266)   piNext = (100, 42.424242424242365)\n",
      "increment two\n",
      "len(ptList) = 33\n",
      "pi = (100, 42.424242424242365)   piNext = (0, 12.121212121212068)\n",
      "increment one\n",
      "len(ptList) = 34\n",
      "pi = (0, 12.121212121212068)   piNext = (39.99999999999983, 0)\n",
      "increment one\n",
      "len(ptList) = 35\n",
      "pi = (39.99999999999983, 0)   piNext = (100, 18.18181818181823)\n",
      "increment two\n",
      "len(ptList) = 36\n",
      "pi = (100, 18.18181818181823)   piNext = (0, 48.48484848484853)\n",
      "increment two\n",
      "len(ptList) = 37\n",
      "pi = (0, 48.48484848484853)   piNext = (100, 78.78787878787882)\n",
      "increment one\n",
      "len(ptList) = 38\n",
      "pi = (100, 78.78787878787882)   piNext = (30.000000000000114, 100)\n",
      "increment one\n",
      "len(ptList) = 39\n",
      "pi = (30.000000000000114, 100)   piNext = (0, 90.90909090909088)\n",
      "increment two\n",
      "len(ptList) = 40\n",
      "pi = (0, 90.90909090909088)   piNext = (100, 60.60606060606059)\n",
      "increment two\n",
      "len(ptList) = 41\n",
      "pi = (100, 60.60606060606059)   piNext = (0, 30.303030303030297)\n",
      "increment two\n",
      "len(ptList) = 42\n",
      "pi = (0, 30.303030303030297)   piNext = (100, 7.105427357601002e-15)\n",
      "increment one\n",
      "len(ptList) = 43\n",
      "fall pi = (100, 7.105427357601002e-15)\n",
      "ptList = [(0, 0), (100, 30.303030303030305), (0, 60.60606060606061), (100, 90.9090909090909), (69.99999999999999, 100), (0, 78.7878787878788), (100, 48.4848484848485), (0, 18.1818181818182), (60.00000000000007, 0), (100, 12.1212121212121), (0, 42.42424242424241), (100, 72.72727272727272), (10.0, 100), (0, 96.96969696969697), (100, 66.66666666666666), (0, 36.363636363636346), (100, 6.0606060606060375), (80.00000000000009, 0), (0, 24.242424242424278), (100, 54.54545454545459), (0, 84.8484848484849), (49.999999999999815, 100), (100, 84.84848484848479), (0, 54.545454545454476), (100, 24.242424242424168), (20.000000000000256, 0), (0, 6.060606060606139), (100, 36.363636363636445), (0, 66.66666666666674), (100, 96.96969696969704), (90.00000000000023, 100), (0, 72.72727272727266), (100, 42.424242424242365), (0, 12.121212121212068), (39.99999999999983, 0), (100, 18.18181818181823), (0, 48.48484848484853), (100, 78.78787878787882), (30.000000000000114, 100), (0, 90.90909090909088), (100, 60.60606060606059), (0, 30.303030303030297), (100, 7.105427357601002e-15)]\n"
     ]
    },
    {
     "data": {
      "image/png": "[encoded data removed]",
      "text/plain": [
       "<Figure size 432x288 with 1 Axes>"
      ]
     },
     "metadata": {},
     "output_type": "display_data"
    }
   ],
   "source": [
    "p0 = (0,0)\n",
    "p1 = (100, 100/3.3)\n",
    "s1 = getSide(p1)\n",
    "\n",
    "ptList = [p0]\n",
    "\n",
    "billiard(p0, p1, ptList)\n",
    "print(\"ptList =\", ptList)\n",
    "draw(ptList)\n"
   ]
  },
  {
   "cell_type": "code",
   "execution_count": 334,
   "metadata": {},
   "outputs": [
    {
     "data": {
      "text/plain": [
       "[(0, 12.121212121212068),\n",
       " (39.99999999999983, 0),\n",
       " (100, 18.18181818181823),\n",
       " (0, 48.48484848484853),\n",
       " (100, 78.78787878787882),\n",
       " (30.000000000000114, 100),\n",
       " (0, 90.90909090909088),\n",
       " (100, 60.60606060606059),\n",
       " (0, 30.303030303030297),\n",
       " (100, 7.105427357601002e-15)]"
      ]
     },
     "execution_count": 334,
     "metadata": {},
     "output_type": "execute_result"
    }
   ],
   "source": [
    "ptList[-10:]"
   ]
  },
  {
   "cell_type": "code",
   "execution_count": 335,
   "metadata": {},
   "outputs": [
    {
     "data": {
      "image/png": "[encoded data removed]",
      "text/plain": [
       "<Figure size 432x288 with 1 Axes>"
      ]
     },
     "metadata": {},
     "output_type": "display_data"
    }
   ],
   "source": [
    "draw(ptList)"
   ]
  },
  {
   "cell_type": "code",
   "execution_count": null,
   "metadata": {},
   "outputs": [],
   "source": []
  }
 ],
 "metadata": {
  "kernelspec": {
   "display_name": "Python 3",
   "language": "python",
   "name": "python3"
  },
  "language_info": {
   "codemirror_mode": {
    "name": "ipython",
    "version": 3
   },
   "file_extension": ".py",
   "mimetype": "text/x-python",
   "name": "python",
   "nbconvert_exporter": "python",
   "pygments_lexer": "ipython3",
   "version": "3.6.5"
  }
 },
 "nbformat": 4,
 "nbformat_minor": 2
}
